{
 "cells": [
  {
   "cell_type": "markdown",
   "metadata": {},
   "source": [
    "# Explainability using SHAP\n",
    "\n",
    "This notebook details the process of explaining a model's predictions using the [SHAP](https://shap.readthedocs.io/en/latest/index.html) library.\n",
    "\n",
    "To do this, we will first create a synthetic dataset related to the vital signs of a cohort of people. Some of these people are suffering from an infection, while others are healthy. The data set contains the following features:\n",
    "\n",
    "* systolic pressure\n",
    "* diasolic pressure\n",
    "* daily average body temperature\n",
    "* current body temperature\n",
    "* daily average respiration rate\n",
    "* current respiration rate\n",
    "* daily average pulse rate\n",
    "* current pulse rate\n",
    "* whether the person has the infection (target variable)\n",
    "\n",
    "We are using a synthetic dataset as the relationships between these features can be controlled. The explanations are therefore easier to relate to the data."
   ]
  },
  {
   "cell_type": "markdown",
   "metadata": {},
   "source": [
    "### Import libraries\n",
    "\n",
    "This notebook requires the SHAP and xgboost libraries that are not installed by default. Use the commands below to install these modules"
   ]
  },
  {
   "cell_type": "code",
   "execution_count": null,
   "metadata": {
    "scrolled": true
   },
   "outputs": [],
   "source": [
    "!pip install shap==0.40.0;\n",
    "!pip install xgboost==1.5.0;"
   ]
  },
  {
   "cell_type": "code",
   "execution_count": null,
   "metadata": {},
   "outputs": [],
   "source": [
    "import matplotlib.pyplot as plt\n",
    "import numpy as np\n",
    "import pandas as pd\n",
    "import shap\n",
    "from sklearn.model_selection import train_test_split\n",
    "from sklearn.metrics import accuracy_score, plot_confusion_matrix\n",
    "from xgboost import XGBClassifier\n",
    "\n",
    "np.random.seed(0)\n",
    "\n",
    "CORAL = \"#FA7268\"\n",
    "GREY = \"#9C9C9C\"\n",
    "TEAL = \"#05C5C5\"\n",
    "YELLOW = \"#F4C41A\""
   ]
  },
  {
   "cell_type": "markdown",
   "metadata": {},
   "source": [
    "### Generate synthetic data\n",
    "\n",
    "To create the data, let us first define the relationships that will go into the data.\n",
    "\n",
    "* systolic pressure - sampled from $\\mathcal{N}(105, 10)$\n",
    "* diasolic pressure - 'systolic pressure' $\\times\\ \\mathcal{N}(\\frac{2}{3}, 0.01)$\n",
    "* daily average body temperature - sampled from $\\mathcal{N}(36.7, 0.05)$\n",
    "* current body temperature - 'daily average body temperature' + $\\mathcal{N}(0, 0.01)$\n",
    "* daily average respiration rate - sampled from $\\mathcal{N}(14, 0.8)$\n",
    "* current respiration rate - 'daily average respiration rate' + $\\mathcal{N}(0, 0.5)$ _if healthy, else_ 'daily average respiration rate' + $\\mathcal{N}(1.5, 0.4)$\n",
    "\n",
    "* daily average pulse rate - daily average respiration rate $\\times\\ \\mathcal{N}(5.5, 0.2)$\n",
    "* current pulse rate - daily average pulse rate + $\\mathcal{N}(0, 4)$ _if healthy, else_ 'daily average pulse rate' + $\\mathcal{N}(10, 5)$\n",
    "* whether the person has the infection (target variable)\n",
    "\n",
    "The following cell contains two functions"
   ]
  },
  {
   "cell_type": "code",
   "execution_count": null,
   "metadata": {},
   "outputs": [],
   "source": [
    "#pressure \n",
    "SYSTOLIC_PRESSURE = 105\n",
    "SYSTOLIC_PRESSURE_STD = 10\n",
    "SYSTOLIC_TO_DIASTOLIC_FACTOR = 2./3.\n",
    "SYSTOLIC_TO_DIASTOLIC_FACTOR_STD = 0.01\n",
    "\n",
    "# body temperature\n",
    "MEAN_BODY_TEMP = 36.7\n",
    "MEAN_BODY_TEMP_STD = 0.05\n",
    "BODY_TEMP_NOISE = 0\n",
    "BODY_TEMP_NOISE_STD = 0.01\n",
    "\n",
    "# respiration rate\n",
    "MEAN_RESPIRATION_RATE = 14\n",
    "MEAN_RESPIRATION_RATE_STD = 0.8\n",
    "RESPIRATION_RATE_NOISE = 0\n",
    "RESPIRATION_RATE_NOISE_STD = 0.5\n",
    "RESPIRATION_RATE_NOISE_INFECTED = 1.5\n",
    "RESPIRATION_RATE_NOISE_STD_INFECTED = 0.4\n",
    "\n",
    "# pulse rate\n",
    "RESPIRATION_TO_PULSE_FACTOR = 5.5\n",
    "RESPIRATION_TO_PULSE_FACTOR_NOISE = 0.2\n",
    "PULSE_RATE_NOISE = 0\n",
    "PULSE_RATE_NOISE_STD = 4\n",
    "PULSE_RATE_NOISE_INFECTED = 10\n",
    "PULSE_RATE_NOISE_STD_INFECTED = 5\n",
    "\n",
    "def generate_healthy(n_patients):\n",
    "    \"\"\"Generates healthy patients\n",
    "\n",
    "    Parameters\n",
    "    ----------\n",
    "    n_patients: int\n",
    "        Number of patients to generate\n",
    "\n",
    "    Returns\n",
    "    -------\n",
    "    patients: np.ndarray\n",
    "        Array of data points of shape (n_patients, 9)\n",
    "    \"\"\"\n",
    "    # pressure\n",
    "    systolic_pressure = np.random.normal(\n",
    "        SYSTOLIC_PRESSURE, SYSTOLIC_PRESSURE_STD, n_patients\n",
    "    )\n",
    "    diastolic_pressure = (\n",
    "        systolic_pressure * np.random.normal(\n",
    "            SYSTOLIC_TO_DIASTOLIC_FACTOR,\n",
    "            SYSTOLIC_TO_DIASTOLIC_FACTOR_STD,\n",
    "            n_patients\n",
    "        )\n",
    "    )\n",
    "    \n",
    "    # body temperature\n",
    "    daily_avg_body_temperature = np.random.normal(\n",
    "        MEAN_BODY_TEMP,\n",
    "        MEAN_BODY_TEMP_STD,\n",
    "        n_patients\n",
    "    )\n",
    "    body_temperature = (\n",
    "        daily_avg_body_temperature \n",
    "        + np.random.normal(\n",
    "            BODY_TEMP_NOISE,\n",
    "            BODY_TEMP_NOISE_STD,\n",
    "            n_patients\n",
    "        )\n",
    "    )\n",
    "    \n",
    "    # respiration rate\n",
    "    daily_avg_respiration_rate = np.random.normal(\n",
    "        MEAN_RESPIRATION_RATE,\n",
    "        MEAN_RESPIRATION_RATE_STD,\n",
    "        n_patients\n",
    "    )\n",
    "    respiration_rate = (\n",
    "        daily_avg_respiration_rate \n",
    "        + np.random.normal(\n",
    "            RESPIRATION_RATE_NOISE,\n",
    "            RESPIRATION_RATE_NOISE_STD,\n",
    "            n_patients\n",
    "        )\n",
    "    )\n",
    "    \n",
    "    # pulse rate\n",
    "    daily_avg_pulse_rate = (\n",
    "        daily_avg_respiration_rate \n",
    "        * np.random.normal(\n",
    "            RESPIRATION_TO_PULSE_FACTOR,\n",
    "            RESPIRATION_TO_PULSE_FACTOR_NOISE,\n",
    "            n_patients\n",
    "        )\n",
    "    )\n",
    "    pulse_rate = (\n",
    "        daily_avg_pulse_rate \n",
    "        + np.random.normal(\n",
    "            PULSE_RATE_NOISE,\n",
    "            PULSE_RATE_NOISE_STD,\n",
    "            n_patients\n",
    "        )\n",
    "    )\n",
    "    \n",
    "    infection = np.zeros(n_patients)\n",
    "    \n",
    "    patients = pd.DataFrame(\n",
    "        np.stack(\n",
    "            [\n",
    "                systolic_pressure,\n",
    "                diastolic_pressure,\n",
    "                daily_avg_body_temperature,\n",
    "                body_temperature,\n",
    "                daily_avg_respiration_rate,\n",
    "                respiration_rate,\n",
    "                daily_avg_pulse_rate,\n",
    "                pulse_rate,\n",
    "                infection,\n",
    "            ],\n",
    "            axis=1\n",
    "        ),\n",
    "        columns=[\n",
    "            \"systolic_pressure\",\n",
    "            \"diastolic_pressure\",\n",
    "            \"daily_avg_body_temperature\",\n",
    "            \"body_temperature\",\n",
    "            \"daily_avg_respiration_rate\",\n",
    "            \"respiration_rate\",\n",
    "            \"daily_avg_pulse_rate\",\n",
    "            \"pulse_rate\",\n",
    "            \"infection\",\n",
    "        ]\n",
    "    )\n",
    "\n",
    "    return patients\n",
    "\n",
    "\n",
    "def generate_infected(n_patients):\n",
    "    \"\"\"Generates patients infected with illness that\n",
    "    raises respiration and pulse\n",
    "\n",
    "    Parameters\n",
    "    ----------\n",
    "    n_patients: int\n",
    "        Number of patients to generate\n",
    "\n",
    "    Returns\n",
    "    -------\n",
    "    patients: np.ndarray\n",
    "        Array of data points of shape (n_patients, 9)\n",
    "    \"\"\"\n",
    "    systolic_pressure = np.random.normal(\n",
    "        SYSTOLIC_PRESSURE, SYSTOLIC_PRESSURE_STD, n_patients\n",
    "    )\n",
    "    diastolic_pressure = (\n",
    "        systolic_pressure * np.random.normal(\n",
    "            SYSTOLIC_TO_DIASTOLIC_FACTOR,\n",
    "            SYSTOLIC_TO_DIASTOLIC_FACTOR_STD,\n",
    "            n_patients\n",
    "        )\n",
    "    )\n",
    "    \n",
    "    # body temperature\n",
    "    daily_avg_body_temperature = np.random.normal(\n",
    "        MEAN_BODY_TEMP,\n",
    "        MEAN_BODY_TEMP_STD,\n",
    "        n_patients\n",
    "    )\n",
    "    body_temperature = (\n",
    "        daily_avg_body_temperature \n",
    "        + np.random.normal(\n",
    "            BODY_TEMP_NOISE,\n",
    "            BODY_TEMP_NOISE_STD,\n",
    "            n_patients\n",
    "        )\n",
    "    )\n",
    "    \n",
    "    # respiration rate\n",
    "    daily_avg_respiration_rate = np.random.normal(\n",
    "        MEAN_RESPIRATION_RATE,\n",
    "        MEAN_RESPIRATION_RATE_STD,\n",
    "        n_patients\n",
    "    )\n",
    "    respiration_rate = (\n",
    "        daily_avg_respiration_rate \n",
    "        + np.random.normal(\n",
    "            RESPIRATION_RATE_NOISE_INFECTED,\n",
    "            RESPIRATION_RATE_NOISE_STD_INFECTED,\n",
    "            n_patients\n",
    "        )\n",
    "    )\n",
    "    \n",
    "    # pulse rate\n",
    "    daily_avg_pulse_rate = (\n",
    "        daily_avg_respiration_rate \n",
    "        * np.random.normal(\n",
    "            RESPIRATION_TO_PULSE_FACTOR,\n",
    "            RESPIRATION_TO_PULSE_FACTOR_NOISE,\n",
    "            n_patients\n",
    "        )\n",
    "    )\n",
    "    pulse_rate = (\n",
    "        daily_avg_pulse_rate \n",
    "        + np.random.normal(\n",
    "            PULSE_RATE_NOISE_INFECTED,\n",
    "            PULSE_RATE_NOISE_STD_INFECTED,\n",
    "            n_patients\n",
    "        )\n",
    "    )\n",
    "    \n",
    "    infection = np.ones(n_patients)\n",
    "    \n",
    "    patients = pd.DataFrame(\n",
    "        np.stack(\n",
    "            [\n",
    "                systolic_pressure,\n",
    "                diastolic_pressure,\n",
    "                daily_avg_body_temperature,\n",
    "                body_temperature,\n",
    "                daily_avg_respiration_rate,\n",
    "                respiration_rate,\n",
    "                daily_avg_pulse_rate,\n",
    "                pulse_rate,\n",
    "                infection\n",
    "            ],\n",
    "            axis=1\n",
    "        ),\n",
    "        columns=[\n",
    "            \"systolic_pressure\",\n",
    "            \"diastolic_pressure\",\n",
    "            \"daily_avg_body_temperature\",\n",
    "            \"body_temperature\",\n",
    "            \"daily_avg_respiration_rate\",\n",
    "            \"respiration_rate\",\n",
    "            \"daily_avg_pulse_rate\",\n",
    "            \"pulse_rate\",\n",
    "            \"infection\",\n",
    "        ]\n",
    "    )\n",
    "\n",
    "    return patients"
   ]
  },
  {
   "cell_type": "markdown",
   "metadata": {},
   "source": [
    "We will use these functions to generate a dataset containing 1000 individuals, 100 of which are suffering from the infection. We will then create a training and test set from this data set that we can use to train our model."
   ]
  },
  {
   "cell_type": "code",
   "execution_count": null,
   "metadata": {},
   "outputs": [],
   "source": [
    "healthy = generate_healthy(900)\n",
    "infected = generate_infected(100)\n",
    "\n",
    "data = pd.concat((healthy, infected)).reset_index(drop=True)\n",
    "\n",
    "# split the data into a training and test set\n",
    "X_train, X_test, y_train, y_test = train_test_split(\n",
    "    data.drop(\"infection\", axis=1),\n",
    "    data[\"infection\"].values,\n",
    "    test_size=0.2,\n",
    "    random_state=0,\n",
    ")"
   ]
  },
  {
   "cell_type": "markdown",
   "metadata": {},
   "source": [
    "## Exploration of the data\n",
    "\n",
    "Now that we have seen how the data is generated, lets explore the relationships between the features in the dataset and the target variable.\n",
    "\n",
    "**Use the functions below to explore the data and understand the relationship between the features and the target variable**"
   ]
  },
  {
   "cell_type": "code",
   "execution_count": null,
   "metadata": {
    "scrolled": false
   },
   "outputs": [],
   "source": [
    "def plot_histogram(X, y, feature):\n",
    "    \"\"\"\n",
    "    Plot a histogram of a feature,\n",
    "    coloured by the target variable\n",
    "    \n",
    "    Parameters\n",
    "    ----------\n",
    "    X: pd.DataFrame\n",
    "        Dataset containing feature1 and feature2\n",
    "    y: np.array\n",
    "        Target variable\n",
    "    feature: str\n",
    "        Name of feature of interest\n",
    "    \"\"\"\n",
    "    plt.figure(figsize=(7, 5))\n",
    "    plt.hist(\n",
    "        X.loc[y==0, feature],\n",
    "        bins=30,\n",
    "        color=GREY,\n",
    "        histtype=\"step\",\n",
    "        linewidth=2,\n",
    "        range=(np.min(X[feature]), np.max(X[feature])),\n",
    "        label=\"Healthy\"\n",
    "    )\n",
    "    plt.hist(\n",
    "        X.loc[y==1, feature],\n",
    "        bins=30,\n",
    "        color=CORAL,\n",
    "        histtype=\"step\",\n",
    "        linewidth=2,\n",
    "        range=(np.min(X[feature]), np.max(X[feature])),\n",
    "        label=\"Infected\"\n",
    "    )\n",
    "    plt.xlabel(\" \".join(feature.split(\"_\")))\n",
    "    plt.ylabel(\"Frequency\")\n",
    "    plt.legend()\n",
    "    plt.show()\n",
    "    \n",
    "\n",
    "def plot_scatter(X, y, feature1, feature2):\n",
    "    \"\"\"\n",
    "    Plot a scatter plot of feature1 vs feature2,\n",
    "    where the points are coloured by the target variable\n",
    "    \n",
    "    Parameters\n",
    "    ----------\n",
    "    X: pd.DataFrame\n",
    "        Dataset containing feature1 and feature2\n",
    "    y: np.array\n",
    "        Target variable\n",
    "    feature1: str\n",
    "        Name of feature of interest\n",
    "    feature2: str\n",
    "        Name of other feature of interest\n",
    "    \"\"\"\n",
    "    plt.figure(figsize=(7, 5))\n",
    "    plt.plot(\n",
    "        X.loc[y==0, feature1],\n",
    "        X.loc[y==0, feature2],\n",
    "        \".\",\n",
    "        label=\"healthy\",\n",
    "        color=GREY,\n",
    "    )\n",
    "    plt.plot(\n",
    "        X.loc[y==1, feature1],\n",
    "        X.loc[y==1, feature2],\n",
    "        \".\",\n",
    "        label=\"infected\",\n",
    "        color=CORAL,\n",
    "    )\n",
    "    plt.xlabel(feature1)\n",
    "    plt.ylabel(feature2)\n",
    "    plt.legend()\n",
    "    plt.show()"
   ]
  },
  {
   "cell_type": "code",
   "execution_count": null,
   "metadata": {
    "scrolled": false
   },
   "outputs": [],
   "source": [
    "# plot histograms for all features\n",
    "for feature in X_train.columns:\n",
    "    plot_histogram(X_train, y_train, feature)"
   ]
  },
  {
   "cell_type": "code",
   "execution_count": null,
   "metadata": {},
   "outputs": [],
   "source": [
    "# plot scatter plot of daily_avg_respiration_rate vs respiration_rate\n",
    "plot_scatter(X_train, y_train, \"daily_avg_respiration_rate\", \"respiration_rate\")"
   ]
  },
  {
   "cell_type": "markdown",
   "metadata": {},
   "source": [
    "Here we can see that the infection is causing the current respiration rate to be elevated above the average for this individual, outside of the normal variation that we see in healthy individuals"
   ]
  },
  {
   "cell_type": "code",
   "execution_count": null,
   "metadata": {},
   "outputs": [],
   "source": [
    "# plot scatter plot of daily_avg_pulse_rate vs pulse_rate\n",
    "plot_scatter(X_train, y_train, \"daily_avg_pulse_rate\", \"pulse_rate\")"
   ]
  },
  {
   "cell_type": "markdown",
   "metadata": {},
   "source": [
    "We can also see that the infection is having a similar effect on the pulse rate when compared to their average for infected individuals"
   ]
  },
  {
   "cell_type": "code",
   "execution_count": null,
   "metadata": {},
   "outputs": [],
   "source": [
    "plot_scatter(X_train, y_train, \"respiration_rate\", \"pulse_rate\")"
   ]
  },
  {
   "cell_type": "markdown",
   "metadata": {},
   "source": [
    "Infected individuals can also be somewhat separated based on their pulse rate and respiration rate alone, but some infected individuals fall within the normal healthy range, and so would be hard to spot on these features alone."
   ]
  },
  {
   "cell_type": "code",
   "execution_count": null,
   "metadata": {},
   "outputs": [],
   "source": [
    "plot_scatter(X_train, y_train, \"daily_avg_respiration_rate\", \"daily_avg_pulse_rate\")"
   ]
  },
  {
   "cell_type": "markdown",
   "metadata": {},
   "source": [
    "However, just by looking at the daily averages of pulse and respiration rate, we cannot discern between healthy and infected individuals"
   ]
  },
  {
   "cell_type": "code",
   "execution_count": null,
   "metadata": {},
   "outputs": [],
   "source": [
    "plot_scatter(X_train, y_train, \"systolic_pressure\", \"body_temperature\")"
   ]
  },
  {
   "cell_type": "markdown",
   "metadata": {},
   "source": [
    "The infection has no effect on either of the pressure features or the body temperature features."
   ]
  },
  {
   "cell_type": "markdown",
   "metadata": {},
   "source": [
    "Based on our exploration of the data, we would expect that the model would most likely try to use the _respiration_rate_ and _pulse_rate_ features. However, it is important to note that just using these features alone it would be hard to accurately predict whether an individual is infected or not. In order to separate these individuals, we must compare their current respiration rate and pulse rate to their daily average. When we do this, we can see that it is elevated outside of the usual distribution.\n",
    "\n",
    "We would therefore expect the most important features in any model to be _respiration_rate_, _pulse_rate_, _daily_avg_respiration_rate_ and _daily_avg_pulse_rate_."
   ]
  },
  {
   "cell_type": "markdown",
   "metadata": {},
   "source": [
    "## Train a model\n",
    "\n",
    "Now we will train a model to predict which individuals are infected and which are healthy. We will use xgboost in this demonstration."
   ]
  },
  {
   "cell_type": "code",
   "execution_count": null,
   "metadata": {},
   "outputs": [],
   "source": [
    "# Train the model\n",
    "clf = XGBClassifier(\n",
    "    n_estimators=100,\n",
    "    max_depth=3,\n",
    "    random_state=0,\n",
    "    use_label_encoder=False,\n",
    "    eval_metric=\"logloss\",\n",
    "    n_jobs=-1,\n",
    ")\n",
    "clf.fit(X_train, y_train.astype(np.int32))"
   ]
  },
  {
   "cell_type": "markdown",
   "metadata": {},
   "source": [
    "As this dataset is very simple, we can see that our model performs very well, getting 99% accuracy on the test set."
   ]
  },
  {
   "cell_type": "code",
   "execution_count": null,
   "metadata": {},
   "outputs": [],
   "source": [
    "# show model metrics\n",
    "print(\"Accuracy Score: \", accuracy_score(y_test, clf.predict(X_test)))\n",
    "plot_confusion_matrix(clf, X_test, y_test, normalize=\"true\")\n",
    "plt.show()"
   ]
  },
  {
   "cell_type": "markdown",
   "metadata": {},
   "source": [
    "We can investigate the performance further by looking at the predictions in terms of the predicted probabilty of each individual being infected. By plotting a histogram of the predicted probabilties for each class, we can see that the model is very confident with its predictions, and only makes a few mistakes."
   ]
  },
  {
   "cell_type": "code",
   "execution_count": null,
   "metadata": {},
   "outputs": [],
   "source": [
    "def plot_proba_scores(ax, scores_list):\n",
    "    \"\"\"\n",
    "    Plot a histogram of the predicted probabilities for each class\n",
    "    \"\"\"\n",
    "    bins = 20\n",
    "    for scores, label, color in zip(\n",
    "        scores_list,\n",
    "        [\n",
    "            \"Healthy\",\n",
    "            \"Infected\",\n",
    "        ],\n",
    "        [GREY, CORAL],\n",
    "    ):\n",
    "        ax.hist(\n",
    "            scores,\n",
    "            bins=bins,\n",
    "            label=label,\n",
    "            color=color,\n",
    "            histtype=\"step\",\n",
    "            linewidth=2,\n",
    "            range=(0, 1),\n",
    "        )\n",
    "    ax.set_xlabel(\"Predicted probability of infection\")\n",
    "    ax.set_ylabel(\"Frequency\")\n",
    "    ax.set_yscale(\"log\")\n",
    "    ax.legend()\n",
    "\n",
    "predicted_healthy = clf.predict_proba(X_test[y_test==0])[:, 1]\n",
    "predicted_infected = clf.predict_proba(X_test[y_test==1])[:, 1]\n",
    "\n",
    "fig, ax = plt.subplots(1, 1)\n",
    "plot_proba_scores(ax, [predicted_healthy, predicted_infected])\n",
    "plt.show()"
   ]
  },
  {
   "cell_type": "markdown",
   "metadata": {},
   "source": [
    "We can also compare the predicted and ground truth scatter plots, to visually evaluate the performance."
   ]
  },
  {
   "cell_type": "code",
   "execution_count": null,
   "metadata": {},
   "outputs": [],
   "source": [
    "def plot_scatter_prediction(clf, X_test, feature1, feature2):\n",
    "    \"\"\"\n",
    "    Plot a scatter plot coloured by predicted probability of being infected\n",
    "    \"\"\"\n",
    "    plt.figure(figsize=(8.8, 5))\n",
    "    scores = clf.predict_proba(X_test)[:, 1]\n",
    "    plt.scatter(\n",
    "        X_test[feature1],\n",
    "        X_test[feature2],\n",
    "        marker=\".\",\n",
    "        c=scores,\n",
    "        vmin=0,\n",
    "        vmax=1,\n",
    "    )\n",
    "    plt.colorbar()\n",
    "    plt.xlabel(feature1)\n",
    "    plt.ylabel(feature2)\n",
    "    plt.show()\n",
    "\n",
    "plot_scatter(X_test, y_test, \"daily_avg_respiration_rate\", \"respiration_rate\")\n",
    "plot_scatter_prediction(clf, X_test, \"daily_avg_respiration_rate\", \"respiration_rate\")"
   ]
  },
  {
   "cell_type": "markdown",
   "metadata": {},
   "source": [
    "## Explanations "
   ]
  },
  {
   "cell_type": "markdown",
   "metadata": {},
   "source": [
    "#### Feature importance in xgboost\n",
    "\n",
    "The importance of each feature in an xgboost model is related to the improvement in performance given by splitting on that feature, accounting for the number of data points that are affected by that split. The improvement in performance acorss all of the splits on that feature across all of the trees in the model are then averaged, to create a measure of importance.\n",
    "\n",
    "For a more detailed discussion of this, see this [blog post](https://machinelearningmastery.com/feature-importance-and-feature-selection-with-xgboost-in-python/)\n",
    "\n",
    "However, feature importance only provides an estimate of relative importance, and does not indicate how much that feature influenced the prediction. These importances are _global_ i.e. they show the importance of features across the whole dataset.\n"
   ]
  },
  {
   "cell_type": "code",
   "execution_count": null,
   "metadata": {},
   "outputs": [],
   "source": [
    "values = sorted(clf.feature_importances_)\n",
    "names = [x for _, x in sorted(zip(clf.feature_importances_, data.columns[:-1]))]\n",
    "\n",
    "plt.barh(names, values, color=CORAL)\n",
    "plt.xlabel(\"Importance\")\n",
    "plt.show()"
   ]
  },
  {
   "cell_type": "markdown",
   "metadata": {},
   "source": [
    "### Explanations with SHAP \n",
    "\n",
    "We will now use SHAP to explain the predictions made by this dataset. Because we are using a small dataset we can use the Exact explainer API, which calculates the full shapely value sum. When datasets are larger, the SHAP library offers alternative methods such as KernelSHAP which can is also model agnostic, or TreeSHAP, which is specifically for tree-based models."
   ]
  },
  {
   "cell_type": "code",
   "execution_count": null,
   "metadata": {},
   "outputs": [],
   "source": [
    "explainer = shap.explainers.Exact(clf.predict_proba, X_test)\n",
    "shap_values = explainer(X_test)"
   ]
  },
  {
   "cell_type": "markdown",
   "metadata": {},
   "source": [
    "First we will look at the _global_ explanation provided by SHAP. Here we can see that it has identified the four features we expected to be important to the model."
   ]
  },
  {
   "cell_type": "code",
   "execution_count": null,
   "metadata": {},
   "outputs": [],
   "source": [
    "shap.summary_plot(\n",
    "    shap_values.values[:,:, 1],\n",
    "    X_test,\n",
    "    plot_type=\"bar\",\n",
    "    show=False\n",
    ")\n",
    "plt.xlim(0, 0.7)\n",
    "plt.show()"
   ]
  },
  {
   "cell_type": "markdown",
   "metadata": {},
   "source": [
    "However, we can also split this view into looking at subsections of the data. In the next two figures we explain predictions made on healthy individuals and infected individuals. We can see, that the shapley values of each feature are much larger for the infected individuals. We can investigate this further in the next plots. "
   ]
  },
  {
   "cell_type": "code",
   "execution_count": null,
   "metadata": {},
   "outputs": [],
   "source": [
    "shap.summary_plot(\n",
    "    shap_values.values[y_test==0,:, 1],\n",
    "    X_test.loc[y_test==0, :],\n",
    "    plot_type=\"bar\",\n",
    "    show=False\n",
    ")\n",
    "plt.xlim(0, 0.7)\n",
    "plt.show()"
   ]
  },
  {
   "cell_type": "code",
   "execution_count": null,
   "metadata": {},
   "outputs": [],
   "source": [
    "shap.summary_plot(\n",
    "    shap_values.values[y_test==1,:, 1],\n",
    "    X_test.loc[y_test==1, :],\n",
    "    plot_type=\"bar\",\n",
    "    show=False\n",
    ")\n",
    "plt.xlim(0, 0.7)\n",
    "plt.show()"
   ]
  },
  {
   "cell_type": "code",
   "execution_count": null,
   "metadata": {},
   "outputs": [],
   "source": [
    "def highlight_point(X, feature1, feature2, index):\n",
    "    \"\"\"Highlight a point in a scatter plot between two features\"\"\"\n",
    "    plt.plot(X_test.loc[:, feature1], X_test.loc[:, feature2], \".\", color=GREY)\n",
    "    plt.plot(\n",
    "        X_test.iloc[index].loc[feature1],\n",
    "        X_test.iloc[index].loc[feature2],\n",
    "        \"o\",\n",
    "        color=CORAL\n",
    "    )\n",
    "    plt.xlabel(feature1)\n",
    "    plt.ylabel(feature2)\n",
    "    plt.show()"
   ]
  },
  {
   "cell_type": "markdown",
   "metadata": {},
   "source": [
    "If we look at the _local_ explanation for an infected individual, we can see how the shapley values are related to the predicted probability of being infected. In the top plot, we see the absolute shapley value for each feature. In the next plot, we can see how these shapley values sum to the predicted probability of infection for that data point."
   ]
  },
  {
   "cell_type": "code",
   "execution_count": null,
   "metadata": {},
   "outputs": [],
   "source": [
    "index = np.where(y_test == 1)[0][0]\n",
    "\n",
    "print(\n",
    "    \"Predicted probability: \",\n",
    "    clf.predict_proba(X_test.iloc[index].values.reshape(1, -1))[0][1]\n",
    ")\n",
    "\n",
    "shap.summary_plot(\n",
    "    shap_values.values[index, :, 1].reshape(1, -1),\n",
    "    X_test.loc[y_test==1, :],\n",
    "    plot_type=\"bar\",\n",
    "    show=False\n",
    ")\n",
    "plt.xlim(0, 0.7)\n",
    "plt.show()\n",
    "\n",
    "shap.plots.waterfall(shap_values[index][:, 1])\n",
    "plt.show()\n",
    "\n",
    "highlight_point(X_test, \"daily_avg_respiration_rate\", \"respiration_rate\", index=index)\n",
    "highlight_point(X_test, \"respiration_rate\", \"pulse_rate\", index=index)\n",
    "highlight_point(X_test, \"daily_avg_respiration_rate\", \"pulse_rate\", index=index)    "
   ]
  },
  {
   "cell_type": "markdown",
   "metadata": {},
   "source": [
    "We can do the same for a _local_ explanation of a healthy individual. Here we can see that the low values of _respiration_rate_ and _daily_avg_respiration_rate_ decrease the probability of this individual being infected."
   ]
  },
  {
   "cell_type": "code",
   "execution_count": null,
   "metadata": {},
   "outputs": [],
   "source": [
    "index = np.where(y_test == 0)[0][0]\n",
    "\n",
    "print(\n",
    "    \"Predicted probability: \",\n",
    "    clf.predict_proba(X_test.iloc[index].values.reshape(1, -1))[0][1]\n",
    ")\n",
    "\n",
    "shap.summary_plot(\n",
    "    shap_values.values[index, :, 1].reshape(1, -1),\n",
    "    X_test.loc[y_test==1, :],\n",
    "    plot_type=\"bar\",\n",
    "    show=False\n",
    ")\n",
    "plt.xlim(0, 0.7)\n",
    "plt.show()\n",
    "\n",
    "shap.plots.waterfall(shap_values[index][:, 1])\n",
    "plt.show()\n",
    "\n",
    "highlight_point(X_test, \"daily_avg_respiration_rate\", \"respiration_rate\", index=index)"
   ]
  },
  {
   "cell_type": "markdown",
   "metadata": {},
   "source": [
    "We can also look at the errors that the model made. Here we look at a false negative prediction. We can see that the predicted probability is close to 0.5, meaning that the model is uncertain about this data point. The two most important features are _respiration_rate_ and _daily_avg_respiration_rate_."
   ]
  },
  {
   "cell_type": "code",
   "execution_count": null,
   "metadata": {},
   "outputs": [],
   "source": [
    "\n",
    "index = np.argwhere(clf.predict(X_test) != y_test)[1][0]\n",
    "\n",
    "print(\"Class: \", y_test[index])\n",
    "print(\n",
    "    \"Predicted probability: \",\n",
    "    clf.predict_proba(X_test.iloc[index].values.reshape(1, -1))[0][1]\n",
    ")\n",
    "\n",
    "shap.summary_plot(\n",
    "    shap_values.values[index, :, 1].reshape(1, -1),\n",
    "    X_test.loc[y_test==1, :],\n",
    "    plot_type=\"bar\",\n",
    "    show=False\n",
    ")\n",
    "plt.xlim(0, 0.6)\n",
    "plt.show()\n",
    "\n",
    "shap.plots.waterfall(shap_values[index][:, 1])\n",
    "plt.show()\n",
    "\n",
    "highlight_point(X_test, \"daily_avg_respiration_rate\", \"respiration_rate\", index=index)\n",
    "highlight_point(X_test, \"daily_avg_respiration_rate\", \"pulse_rate\", index=index)"
   ]
  },
  {
   "cell_type": "markdown",
   "metadata": {},
   "source": [
    "In this example, we can see that despite _respiration_rate_ and _daily_avg_respiration_rate_ both being high, the prediction is uncertain. We can look at the relationship between the value of each feature and the shapley value using the summary_plot. Here we can see that the model is picking up on combinations of high _respiration_rate_ with low _daily_avg_respiration_rate_."
   ]
  },
  {
   "cell_type": "code",
   "execution_count": null,
   "metadata": {},
   "outputs": [],
   "source": [
    "shap.summary_plot(shap_values.values[..., 1], X_test)"
   ]
  },
  {
   "cell_type": "markdown",
   "metadata": {},
   "source": [
    "## Summary\n",
    "\n",
    "In this example we've explored a simple synthetic data set that highlights how shapley values can be used to explain predictions made by machine learning models."
   ]
  }
 ],
 "metadata": {
  "kernelspec": {
   "display_name": "Python [conda env:Python3] *",
   "language": "python",
   "name": "conda-env-Python3-py"
  },
  "language_info": {
   "codemirror_mode": {
    "name": "ipython",
    "version": 3
   },
   "file_extension": ".py",
   "mimetype": "text/x-python",
   "name": "python",
   "nbconvert_exporter": "python",
   "pygments_lexer": "ipython3",
   "version": "3.8.2"
  }
 },
 "nbformat": 4,
 "nbformat_minor": 2
}
